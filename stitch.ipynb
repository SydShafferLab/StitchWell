{
 "cells": [
  {
   "cell_type": "code",
   "execution_count": null,
   "source": [
    "# INITIATE GUI\n",
    "\n",
    "import matplotlib\n",
    "matplotlib.use('Qt5Agg')\n",
    "%matplotlib qt"
   ],
   "outputs": [],
   "metadata": {}
  },
  {
   "cell_type": "code",
   "execution_count": null,
   "source": [
    "# TEST STITCHING\n",
    "\n",
    "from nd2Stitcher import stitch\n",
    "\n",
    "file = ''\n",
    "stitchChannel = 1\n",
    "\n",
    "stitched = stitch(file,stitchChannel)"
   ],
   "outputs": [],
   "metadata": {}
  },
  {
   "cell_type": "code",
   "execution_count": null,
   "source": [
    "# SEE STITCH\n",
    "\n",
    "from nd2Stitcher import seeStitch\n",
    "\n",
    "performance = 'normal'\n",
    "adjustment = (0,255,0,7,1)\n",
    "previewChannel = 1\n",
    "\n",
    "seeStitch(stitched,performance,adjustment,previewChannel)"
   ],
   "outputs": [],
   "metadata": {}
  },
  {
   "cell_type": "code",
   "execution_count": null,
   "source": [
    "# BULK STITCH\n",
    "\n",
    "from nd2Stitcher import bulkStitch\n",
    "\n",
    "fileDir = ''\n",
    "outDir = ''\n",
    "stitchChannel = 1\n",
    "\n",
    "bulkStitch(fileDir,outDir,stitchChannel)"
   ],
   "outputs": [],
   "metadata": {}
  }
 ],
 "metadata": {
  "interpreter": {
   "hash": "c0fd948bf753d7bc7f12768c113254fc6c648300ea54d9359ad116bbc2306766"
  },
  "kernelspec": {
   "name": "python3",
   "display_name": "Python 3.9.6 64-bit ('StitchWell': conda)"
  },
  "language_info": {
   "codemirror_mode": {
    "name": "ipython",
    "version": 3
   },
   "file_extension": ".py",
   "mimetype": "text/x-python",
   "name": "python",
   "nbconvert_exporter": "python",
   "pygments_lexer": "ipython3",
   "version": "3.9.6"
  }
 },
 "nbformat": 4,
 "nbformat_minor": 2
}